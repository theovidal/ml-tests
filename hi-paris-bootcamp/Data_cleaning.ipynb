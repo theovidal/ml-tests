{
 "cells": [
  {
   "cell_type": "markdown",
   "metadata": {
    "id": "LyxAAHzgiWBX"
   },
   "source": [
    "# <font color=#023F7C> **Data cleaning and exploration** </font>\n",
    "\n",
    "<font color=#023F7C>**Hi! PARIS DataBootcamp 2024 🚀**</font> <br>\n",
    "\n",
    "\n",
    "<img src = https://www.hi-paris.fr/wp-content/uploads/2020/09/logo-hi-paris-retina.png width = \"300\" height = \"200\" >\n",
    "\n"
   ]
  },
  {
   "cell_type": "markdown",
   "metadata": {
    "id": "L-kFsF3iiWBZ"
   },
   "source": [
    "**<font size='4'><u>Goal of this practical session</u>**</font> <br>\n",
    "\n",
    "You've been provided a `athlete_events.csv` dataset containing **historical data on the modern Olympic Games**, including all the Games from Athens 1896 to Rio 2016. The dataset contains 15 column and each row corresponds to an individual athlete competing in an individual Olympic event.\n",
    "\n",
    "The goal of this practical session is to get to know this large dataset and clean it from missing values and inconsistencies. <br>\n",
    "Don't forget to **save the cleaned dataset** at the end of the session, since it will be used for the Data Visualization practical session."
   ]
  },
  {
   "cell_type": "markdown",
   "metadata": {},
   "source": [
    "**<font size='4'><u>What is Data cleaning ?</u>**</font> <br>\n",
    "\n",
    "Data cleaning is a crucial step in the data analysis and machine learning process, as the quality of the insights and models generated heavily relies on the accuracy and reliability of the underlying data. Raw data often contains **errors**, **inconsistencies**, **missing values**, and **outliers** that can distort results or lead to faulty conclusions. Data cleaning involves identifying and rectifying these issues, ensuring the dataset is trustworthy and suitable for analysis.\n"
   ]
  },
  {
   "cell_type": "markdown",
   "metadata": {
    "id": "bcz3O3LhiWBZ"
   },
   "source": [
    "**<font size='4'><u>Before you start to working on this notebook ⚠️</u>**</font> <br>\n",
    "\n",
    "Please download/copy this notebook from `hfactory_magic_folders\\course` and drop it into your own directory `my_work` on HFactory. <br>\n",
    "If you don't, you won't be able to save the modifications you've made on this notebook."
   ]
  },
  {
   "cell_type": "markdown",
   "metadata": {
    "id": "60DcZzReiWBa"
   },
   "source": [
    "**<font size='4'><u>Need help ?</u>**</font> <br>\n",
    "\n",
    "If you struggling with this notebook, you can go to the **Beginner and Intermediate python notebooks** for guidance. <br>\n",
    "Don't hesitate to also ask help from the bootcamp's team/speakers."
   ]
  },
  {
   "cell_type": "markdown",
   "metadata": {
    "id": "cV9lJlEhh7EI"
   },
   "source": [
    "## **1. Import libraries and dataset**\n",
    "First, let's import Python libraries."
   ]
  },
  {
   "cell_type": "code",
   "metadata": {
    "id": "0l0FgH2Dh9WJ",
    "tags": [],
    "ExecuteTime": {
     "end_time": "2024-08-19T13:36:56.524974Z",
     "start_time": "2024-08-19T13:36:56.520202Z"
    }
   },
   "source": [
    "import pandas as pd\n",
    "import numpy as np\n",
    "import seaborn as sns\n",
    "import matplotlib as plt\n",
    "pd.set_option('display.max_columns', None) #Show all columns"
   ],
   "outputs": [],
   "execution_count": 1
  },
  {
   "cell_type": "markdown",
   "metadata": {
    "id": "x4d6xtYaxmm_"
   },
   "source": [
    "Then, let's import the dataset using the pandas `pd.read_csv()` function. <br>"
   ]
  },
  {
   "cell_type": "code",
   "metadata": {
    "tags": [],
    "ExecuteTime": {
     "end_time": "2024-08-19T13:36:58.505485Z",
     "start_time": "2024-08-19T13:36:57.449726Z"
    }
   },
   "source": [
    "# Path to the dataset in HFactory\n",
    "path=r'data/athlete_events.csv'\n",
    "\n",
    "#Import the csv file\n",
    "df = pd.read_csv(path,encoding='latin-1')"
   ],
   "outputs": [],
   "execution_count": 2
  },
  {
   "cell_type": "markdown",
   "metadata": {
    "id": "gNUY-ADWh0Wy"
   },
   "source": [
    "## **2. Data discovery**\n",
    "\n",
    "**Question 1**: <br>\n",
    "**Display the dataset's head and tail.**"
   ]
  },
  {
   "cell_type": "markdown",
   "metadata": {
    "id": "uRFQab8VzPYM"
   },
   "source": [
    "**Question 2**: <br> **Use the pandas function `.info()` to get general information on the dataset.**<br>"
   ]
  },
  {
   "cell_type": "code",
   "metadata": {
    "id": "fchZI2MbPSL4",
    "ExecuteTime": {
     "end_time": "2024-08-19T13:14:17.245980Z",
     "start_time": "2024-08-19T13:14:17.120515Z"
    }
   },
   "source": "df.info()",
   "outputs": [
    {
     "name": "stdout",
     "output_type": "stream",
     "text": [
      "<class 'pandas.core.frame.DataFrame'>\n",
      "RangeIndex: 271116 entries, 0 to 271115\n",
      "Data columns (total 15 columns):\n",
      " #   Column  Non-Null Count   Dtype  \n",
      "---  ------  --------------   -----  \n",
      " 0   ID      271116 non-null  int64  \n",
      " 1   Name    271116 non-null  object \n",
      " 2   Sex     271116 non-null  object \n",
      " 3   Age     261642 non-null  float64\n",
      " 4   Height  210945 non-null  float64\n",
      " 5   Weight  208241 non-null  float64\n",
      " 6   Team    271116 non-null  object \n",
      " 7   NOC     271116 non-null  object \n",
      " 8   Games   271116 non-null  object \n",
      " 9   Year    271116 non-null  int64  \n",
      " 10  Season  271116 non-null  object \n",
      " 11  City    271116 non-null  object \n",
      " 12  Sport   271116 non-null  object \n",
      " 13  Event   271116 non-null  object \n",
      " 14  Medal   39783 non-null   object \n",
      "dtypes: float64(3), int64(2), object(10)\n",
      "memory usage: 31.0+ MB\n"
     ]
    }
   ],
   "execution_count": 4
  },
  {
   "cell_type": "markdown",
   "metadata": {
    "id": "IgdVHU6ciWBf"
   },
   "source": "**What can you say about the loaded dataset ?** Empty values\n"
  },
  {
   "cell_type": "markdown",
   "metadata": {},
   "source": []
  },
  {
   "cell_type": "markdown",
   "metadata": {
    "id": "XLifVexBec3l"
   },
   "source": [
    "**Question 3**:  <br> **Print all the columns/variables of the dataset.**"
   ]
  },
  {
   "cell_type": "code",
   "metadata": {
    "id": "OjU2ptpgPVyH",
    "ExecuteTime": {
     "end_time": "2024-08-19T13:44:24.071022Z",
     "start_time": "2024-08-19T13:44:24.032065Z"
    }
   },
   "source": "df",
   "outputs": [
    {
     "data": {
      "text/plain": [
       "            ID                      Name Sex   Age  Height  Weight  \\\n",
       "0            1                 A Dijiang   M  24.0   180.0    80.0   \n",
       "1            2                  A Lamusi   M  23.0   170.0    60.0   \n",
       "4            5  Christine Jacoba Aaftink   F  21.0   185.0    82.0   \n",
       "5            5  Christine Jacoba Aaftink   F  21.0   185.0    82.0   \n",
       "6            5  Christine Jacoba Aaftink   F  25.0   185.0    82.0   \n",
       "...        ...                       ...  ..   ...     ...     ...   \n",
       "271111  135569                Andrzej ya   M  29.0   179.0    89.0   \n",
       "271112  135570                  Piotr ya   M  27.0   176.0    59.0   \n",
       "271113  135570                  Piotr ya   M  27.0   176.0    59.0   \n",
       "271114  135571        Tomasz Ireneusz ya   M  30.0   185.0    96.0   \n",
       "271115  135571        Tomasz Ireneusz ya   M  34.0   185.0    96.0   \n",
       "\n",
       "               Team  NOC        Games  Year  Season            City  \\\n",
       "0             China  CHN  1992 Summer  1992  Summer       Barcelona   \n",
       "1             China  CHN  2012 Summer  2012  Summer          London   \n",
       "4       Netherlands  NED  1988 Winter  1988  Winter         Calgary   \n",
       "5       Netherlands  NED  1988 Winter  1988  Winter         Calgary   \n",
       "6       Netherlands  NED  1992 Winter  1992  Winter     Albertville   \n",
       "...             ...  ...          ...   ...     ...             ...   \n",
       "271111     Poland-1  POL  1976 Winter  1976  Winter       Innsbruck   \n",
       "271112       Poland  POL  2014 Winter  2014  Winter           Sochi   \n",
       "271113       Poland  POL  2014 Winter  2014  Winter           Sochi   \n",
       "271114       Poland  POL  1998 Winter  1998  Winter          Nagano   \n",
       "271115       Poland  POL  2002 Winter  2002  Winter  Salt Lake City   \n",
       "\n",
       "                Sport                                     Event Medal  \n",
       "0          Basketball               Basketball Men's Basketball  None  \n",
       "1                Judo              Judo Men's Extra-Lightweight  None  \n",
       "4       Speed Skating          Speed Skating Women's 500 metres  None  \n",
       "5       Speed Skating        Speed Skating Women's 1,000 metres  None  \n",
       "6       Speed Skating          Speed Skating Women's 500 metres  None  \n",
       "...               ...                                       ...   ...  \n",
       "271111           Luge                Luge Mixed (Men)'s Doubles  None  \n",
       "271112    Ski Jumping  Ski Jumping Men's Large Hill, Individual  None  \n",
       "271113    Ski Jumping        Ski Jumping Men's Large Hill, Team  None  \n",
       "271114      Bobsleigh                      Bobsleigh Men's Four  None  \n",
       "271115      Bobsleigh                      Bobsleigh Men's Four  None  \n",
       "\n",
       "[206853 rows x 15 columns]"
      ],
      "text/html": [
       "<div>\n",
       "<style scoped>\n",
       "    .dataframe tbody tr th:only-of-type {\n",
       "        vertical-align: middle;\n",
       "    }\n",
       "\n",
       "    .dataframe tbody tr th {\n",
       "        vertical-align: top;\n",
       "    }\n",
       "\n",
       "    .dataframe thead th {\n",
       "        text-align: right;\n",
       "    }\n",
       "</style>\n",
       "<table border=\"1\" class=\"dataframe\">\n",
       "  <thead>\n",
       "    <tr style=\"text-align: right;\">\n",
       "      <th></th>\n",
       "      <th>ID</th>\n",
       "      <th>Name</th>\n",
       "      <th>Sex</th>\n",
       "      <th>Age</th>\n",
       "      <th>Height</th>\n",
       "      <th>Weight</th>\n",
       "      <th>Team</th>\n",
       "      <th>NOC</th>\n",
       "      <th>Games</th>\n",
       "      <th>Year</th>\n",
       "      <th>Season</th>\n",
       "      <th>City</th>\n",
       "      <th>Sport</th>\n",
       "      <th>Event</th>\n",
       "      <th>Medal</th>\n",
       "    </tr>\n",
       "  </thead>\n",
       "  <tbody>\n",
       "    <tr>\n",
       "      <th>0</th>\n",
       "      <td>1</td>\n",
       "      <td>A Dijiang</td>\n",
       "      <td>M</td>\n",
       "      <td>24.0</td>\n",
       "      <td>180.0</td>\n",
       "      <td>80.0</td>\n",
       "      <td>China</td>\n",
       "      <td>CHN</td>\n",
       "      <td>1992 Summer</td>\n",
       "      <td>1992</td>\n",
       "      <td>Summer</td>\n",
       "      <td>Barcelona</td>\n",
       "      <td>Basketball</td>\n",
       "      <td>Basketball Men's Basketball</td>\n",
       "      <td>None</td>\n",
       "    </tr>\n",
       "    <tr>\n",
       "      <th>1</th>\n",
       "      <td>2</td>\n",
       "      <td>A Lamusi</td>\n",
       "      <td>M</td>\n",
       "      <td>23.0</td>\n",
       "      <td>170.0</td>\n",
       "      <td>60.0</td>\n",
       "      <td>China</td>\n",
       "      <td>CHN</td>\n",
       "      <td>2012 Summer</td>\n",
       "      <td>2012</td>\n",
       "      <td>Summer</td>\n",
       "      <td>London</td>\n",
       "      <td>Judo</td>\n",
       "      <td>Judo Men's Extra-Lightweight</td>\n",
       "      <td>None</td>\n",
       "    </tr>\n",
       "    <tr>\n",
       "      <th>4</th>\n",
       "      <td>5</td>\n",
       "      <td>Christine Jacoba Aaftink</td>\n",
       "      <td>F</td>\n",
       "      <td>21.0</td>\n",
       "      <td>185.0</td>\n",
       "      <td>82.0</td>\n",
       "      <td>Netherlands</td>\n",
       "      <td>NED</td>\n",
       "      <td>1988 Winter</td>\n",
       "      <td>1988</td>\n",
       "      <td>Winter</td>\n",
       "      <td>Calgary</td>\n",
       "      <td>Speed Skating</td>\n",
       "      <td>Speed Skating Women's 500 metres</td>\n",
       "      <td>None</td>\n",
       "    </tr>\n",
       "    <tr>\n",
       "      <th>5</th>\n",
       "      <td>5</td>\n",
       "      <td>Christine Jacoba Aaftink</td>\n",
       "      <td>F</td>\n",
       "      <td>21.0</td>\n",
       "      <td>185.0</td>\n",
       "      <td>82.0</td>\n",
       "      <td>Netherlands</td>\n",
       "      <td>NED</td>\n",
       "      <td>1988 Winter</td>\n",
       "      <td>1988</td>\n",
       "      <td>Winter</td>\n",
       "      <td>Calgary</td>\n",
       "      <td>Speed Skating</td>\n",
       "      <td>Speed Skating Women's 1,000 metres</td>\n",
       "      <td>None</td>\n",
       "    </tr>\n",
       "    <tr>\n",
       "      <th>6</th>\n",
       "      <td>5</td>\n",
       "      <td>Christine Jacoba Aaftink</td>\n",
       "      <td>F</td>\n",
       "      <td>25.0</td>\n",
       "      <td>185.0</td>\n",
       "      <td>82.0</td>\n",
       "      <td>Netherlands</td>\n",
       "      <td>NED</td>\n",
       "      <td>1992 Winter</td>\n",
       "      <td>1992</td>\n",
       "      <td>Winter</td>\n",
       "      <td>Albertville</td>\n",
       "      <td>Speed Skating</td>\n",
       "      <td>Speed Skating Women's 500 metres</td>\n",
       "      <td>None</td>\n",
       "    </tr>\n",
       "    <tr>\n",
       "      <th>...</th>\n",
       "      <td>...</td>\n",
       "      <td>...</td>\n",
       "      <td>...</td>\n",
       "      <td>...</td>\n",
       "      <td>...</td>\n",
       "      <td>...</td>\n",
       "      <td>...</td>\n",
       "      <td>...</td>\n",
       "      <td>...</td>\n",
       "      <td>...</td>\n",
       "      <td>...</td>\n",
       "      <td>...</td>\n",
       "      <td>...</td>\n",
       "      <td>...</td>\n",
       "      <td>...</td>\n",
       "    </tr>\n",
       "    <tr>\n",
       "      <th>271111</th>\n",
       "      <td>135569</td>\n",
       "      <td>Andrzej ya</td>\n",
       "      <td>M</td>\n",
       "      <td>29.0</td>\n",
       "      <td>179.0</td>\n",
       "      <td>89.0</td>\n",
       "      <td>Poland-1</td>\n",
       "      <td>POL</td>\n",
       "      <td>1976 Winter</td>\n",
       "      <td>1976</td>\n",
       "      <td>Winter</td>\n",
       "      <td>Innsbruck</td>\n",
       "      <td>Luge</td>\n",
       "      <td>Luge Mixed (Men)'s Doubles</td>\n",
       "      <td>None</td>\n",
       "    </tr>\n",
       "    <tr>\n",
       "      <th>271112</th>\n",
       "      <td>135570</td>\n",
       "      <td>Piotr ya</td>\n",
       "      <td>M</td>\n",
       "      <td>27.0</td>\n",
       "      <td>176.0</td>\n",
       "      <td>59.0</td>\n",
       "      <td>Poland</td>\n",
       "      <td>POL</td>\n",
       "      <td>2014 Winter</td>\n",
       "      <td>2014</td>\n",
       "      <td>Winter</td>\n",
       "      <td>Sochi</td>\n",
       "      <td>Ski Jumping</td>\n",
       "      <td>Ski Jumping Men's Large Hill, Individual</td>\n",
       "      <td>None</td>\n",
       "    </tr>\n",
       "    <tr>\n",
       "      <th>271113</th>\n",
       "      <td>135570</td>\n",
       "      <td>Piotr ya</td>\n",
       "      <td>M</td>\n",
       "      <td>27.0</td>\n",
       "      <td>176.0</td>\n",
       "      <td>59.0</td>\n",
       "      <td>Poland</td>\n",
       "      <td>POL</td>\n",
       "      <td>2014 Winter</td>\n",
       "      <td>2014</td>\n",
       "      <td>Winter</td>\n",
       "      <td>Sochi</td>\n",
       "      <td>Ski Jumping</td>\n",
       "      <td>Ski Jumping Men's Large Hill, Team</td>\n",
       "      <td>None</td>\n",
       "    </tr>\n",
       "    <tr>\n",
       "      <th>271114</th>\n",
       "      <td>135571</td>\n",
       "      <td>Tomasz Ireneusz ya</td>\n",
       "      <td>M</td>\n",
       "      <td>30.0</td>\n",
       "      <td>185.0</td>\n",
       "      <td>96.0</td>\n",
       "      <td>Poland</td>\n",
       "      <td>POL</td>\n",
       "      <td>1998 Winter</td>\n",
       "      <td>1998</td>\n",
       "      <td>Winter</td>\n",
       "      <td>Nagano</td>\n",
       "      <td>Bobsleigh</td>\n",
       "      <td>Bobsleigh Men's Four</td>\n",
       "      <td>None</td>\n",
       "    </tr>\n",
       "    <tr>\n",
       "      <th>271115</th>\n",
       "      <td>135571</td>\n",
       "      <td>Tomasz Ireneusz ya</td>\n",
       "      <td>M</td>\n",
       "      <td>34.0</td>\n",
       "      <td>185.0</td>\n",
       "      <td>96.0</td>\n",
       "      <td>Poland</td>\n",
       "      <td>POL</td>\n",
       "      <td>2002 Winter</td>\n",
       "      <td>2002</td>\n",
       "      <td>Winter</td>\n",
       "      <td>Salt Lake City</td>\n",
       "      <td>Bobsleigh</td>\n",
       "      <td>Bobsleigh Men's Four</td>\n",
       "      <td>None</td>\n",
       "    </tr>\n",
       "  </tbody>\n",
       "</table>\n",
       "<p>206853 rows × 15 columns</p>\n",
       "</div>"
      ]
     },
     "execution_count": 26,
     "metadata": {},
     "output_type": "execute_result"
    }
   ],
   "execution_count": 26
  },
  {
   "cell_type": "markdown",
   "metadata": {
    "id": "1biQZs92inr0"
   },
   "source": [
    "## **3. Analyze the dataframe's dtypes**\n",
    "**Question 4**: <br>\n",
    "**Create 3 lists, each containing columns names with an int, float and object type.**\n",
    "- List 1: Columns with an `int64` type\n",
    "- List 2: Columns with a `float64` type\n",
    "- List 3: Columns with an `object` type.\n",
    "\n",
    "*Note: You can use pandas' `.select_dtypes()` function to get columns with a specific dtype.* <br>\n",
    "*Create a list from a Pandas Dataframe/series with `.to_list()`*"
   ]
  },
  {
   "cell_type": "code",
   "metadata": {
    "id": "LUzSKfxDiwAr",
    "ExecuteTime": {
     "end_time": "2024-08-19T13:39:31.731356Z",
     "start_time": "2024-08-19T13:39:31.673060Z"
    }
   },
   "source": [
    "int_columns = df.select_dtypes(include=int).columns.to_list()\n",
    "float_columns = df.select_dtypes(include=float).columns.to_list()\n",
    "object_columns = df.select_dtypes(include='object').columns.to_list()"
   ],
   "outputs": [],
   "execution_count": 8
  },
  {
   "cell_type": "markdown",
   "metadata": {
    "id": "QBjyPD9HetOq"
   },
   "source": [
    "**Question 5**: <br>\n",
    "**Compute the number of unique values for the columns with an object and int type.** <br>\n",
    "\n",
    "*Note: Combine the list with int columns and object columns using the `+` operator*. <br>\n",
    "*Create a dataframe with the number of unique values and the corresponding variable.*"
   ]
  },
  {
   "cell_type": "code",
   "metadata": {
    "id": "pe-KtTvhPhfv",
    "ExecuteTime": {
     "end_time": "2024-08-19T13:21:40.326985Z",
     "start_time": "2024-08-19T13:21:39.779075Z"
    }
   },
   "source": [
    "uniques = df.select_dtypes(include=['object', int]).nunique()\n",
    "uniques"
   ],
   "outputs": [
    {
     "data": {
      "text/plain": [
       "ID        135571\n",
       "Name      134732\n",
       "Sex            2\n",
       "Team        1184\n",
       "NOC          230\n",
       "Games         51\n",
       "Year          35\n",
       "Season         2\n",
       "City          42\n",
       "Sport         66\n",
       "Event        765\n",
       "Medal          3\n",
       "dtype: int64"
      ]
     },
     "execution_count": 8,
     "metadata": {},
     "output_type": "execute_result"
    }
   ],
   "execution_count": 8
  },
  {
   "cell_type": "code",
   "execution_count": null,
   "metadata": {
    "id": "QXf1o57QPhRL"
   },
   "outputs": [],
   "source": []
  },
  {
   "cell_type": "markdown",
   "metadata": {
    "id": "VxbMvTxqiWBg"
   },
   "source": [
    "**Which column/variable has over 15 unique values ?**"
   ]
  },
  {
   "cell_type": "code",
   "metadata": {
    "id": "VETvHEayPjKZ",
    "ExecuteTime": {
     "end_time": "2024-08-19T13:22:36.874827Z",
     "start_time": "2024-08-19T13:22:36.863446Z"
    }
   },
   "source": "list(uniques[uniques >= 15].index)",
   "outputs": [
    {
     "data": {
      "text/plain": [
       "['ID', 'Name', 'Team', 'NOC', 'Games', 'Year', 'City', 'Sport', 'Event']"
      ]
     },
     "execution_count": 12,
     "metadata": {},
     "output_type": "execute_result"
    }
   ],
   "execution_count": 12
  },
  {
   "cell_type": "markdown",
   "metadata": {
    "id": "5cF7MQdJiWBh"
   },
   "source": [
    "**Question 6**: <br>\n",
    "**Compute the summary statistics of columns with a float type, with pandas' `.describe()` function.** <br>"
   ]
  },
  {
   "cell_type": "code",
   "metadata": {
    "ExecuteTime": {
     "end_time": "2024-08-19T13:23:09.790052Z",
     "start_time": "2024-08-19T13:23:09.723667Z"
    }
   },
   "source": "df.select_dtypes(include='float').describe()",
   "outputs": [
    {
     "data": {
      "text/plain": [
       "                 Age         Height         Weight\n",
       "count  261642.000000  210945.000000  208241.000000\n",
       "mean       25.556898     175.338970      70.702393\n",
       "std         6.393561      10.518462      14.348020\n",
       "min        10.000000     127.000000      25.000000\n",
       "25%        21.000000     168.000000      60.000000\n",
       "50%        24.000000     175.000000      70.000000\n",
       "75%        28.000000     183.000000      79.000000\n",
       "max        97.000000     226.000000     214.000000"
      ],
      "text/html": [
       "<div>\n",
       "<style scoped>\n",
       "    .dataframe tbody tr th:only-of-type {\n",
       "        vertical-align: middle;\n",
       "    }\n",
       "\n",
       "    .dataframe tbody tr th {\n",
       "        vertical-align: top;\n",
       "    }\n",
       "\n",
       "    .dataframe thead th {\n",
       "        text-align: right;\n",
       "    }\n",
       "</style>\n",
       "<table border=\"1\" class=\"dataframe\">\n",
       "  <thead>\n",
       "    <tr style=\"text-align: right;\">\n",
       "      <th></th>\n",
       "      <th>Age</th>\n",
       "      <th>Height</th>\n",
       "      <th>Weight</th>\n",
       "    </tr>\n",
       "  </thead>\n",
       "  <tbody>\n",
       "    <tr>\n",
       "      <th>count</th>\n",
       "      <td>261642.000000</td>\n",
       "      <td>210945.000000</td>\n",
       "      <td>208241.000000</td>\n",
       "    </tr>\n",
       "    <tr>\n",
       "      <th>mean</th>\n",
       "      <td>25.556898</td>\n",
       "      <td>175.338970</td>\n",
       "      <td>70.702393</td>\n",
       "    </tr>\n",
       "    <tr>\n",
       "      <th>std</th>\n",
       "      <td>6.393561</td>\n",
       "      <td>10.518462</td>\n",
       "      <td>14.348020</td>\n",
       "    </tr>\n",
       "    <tr>\n",
       "      <th>min</th>\n",
       "      <td>10.000000</td>\n",
       "      <td>127.000000</td>\n",
       "      <td>25.000000</td>\n",
       "    </tr>\n",
       "    <tr>\n",
       "      <th>25%</th>\n",
       "      <td>21.000000</td>\n",
       "      <td>168.000000</td>\n",
       "      <td>60.000000</td>\n",
       "    </tr>\n",
       "    <tr>\n",
       "      <th>50%</th>\n",
       "      <td>24.000000</td>\n",
       "      <td>175.000000</td>\n",
       "      <td>70.000000</td>\n",
       "    </tr>\n",
       "    <tr>\n",
       "      <th>75%</th>\n",
       "      <td>28.000000</td>\n",
       "      <td>183.000000</td>\n",
       "      <td>79.000000</td>\n",
       "    </tr>\n",
       "    <tr>\n",
       "      <th>max</th>\n",
       "      <td>97.000000</td>\n",
       "      <td>226.000000</td>\n",
       "      <td>214.000000</td>\n",
       "    </tr>\n",
       "  </tbody>\n",
       "</table>\n",
       "</div>"
      ]
     },
     "execution_count": 13,
     "metadata": {},
     "output_type": "execute_result"
    }
   ],
   "execution_count": 13
  },
  {
   "cell_type": "markdown",
   "metadata": {
    "id": "0h4wBSDHiWBh"
   },
   "source": [
    "**Do you detect outliers (weird/abnormal values) in the data ?**\n",
    "\n",
    "Max values are a bit off for \"Age\" and \"Weight\""
   ]
  },
  {
   "metadata": {
    "ExecuteTime": {
     "end_time": "2024-08-19T13:26:53.515069Z",
     "start_time": "2024-08-19T13:26:52.443244Z"
    }
   },
   "cell_type": "code",
   "source": "df.select_dtypes(include='float').plot(kind='hist', bins=25, subplots=True)",
   "outputs": [
    {
     "data": {
      "text/plain": [
       "array([<Axes: ylabel='Frequency'>, <Axes: ylabel='Frequency'>,\n",
       "       <Axes: ylabel='Frequency'>], dtype=object)"
      ]
     },
     "execution_count": 18,
     "metadata": {},
     "output_type": "execute_result"
    },
    {
     "data": {
      "text/plain": [
       "<Figure size 640x480 with 3 Axes>"
      ],
      "image/png": "[encoded data removed]"
     },
     "metadata": {},
     "output_type": "display_data"
    }
   ],
   "execution_count": 18
  },
  {
   "metadata": {},
   "cell_type": "markdown",
   "source": "Now the values are more explainable: these variables tend to follow a normalized distribution"
  },
  {
   "cell_type": "markdown",
   "metadata": {},
   "source": []
  },
  {
   "cell_type": "markdown",
   "metadata": {
    "id": "v6ol5W8eiWBh"
   },
   "source": [
    "## **4. Analyze missing values**"
   ]
  },
  {
   "cell_type": "markdown",
   "metadata": {
    "id": "U82k4QWReiC-"
   },
   "source": [
    "**Question 7**: <br> **Compute the number of NaN value for every variable/column** <br>\n",
    "\n",
    "*Note: A NaN value represents a missing value in a cell of the dataframe* <br>\n",
    "*You can use the `.isna()` function.*"
   ]
  },
  {
   "cell_type": "markdown",
   "metadata": {
    "id": "3V8hZif3iWBi"
   },
   "source": [
    "**Which variables of the dataset has missing values ?**"
   ]
  },
  {
   "cell_type": "code",
   "metadata": {
    "ExecuteTime": {
     "end_time": "2024-08-19T13:29:28.400344Z",
     "start_time": "2024-08-19T13:29:28.260141Z"
    }
   },
   "source": "df.isna().sum()",
   "outputs": [
    {
     "data": {
      "text/plain": [
       "ID             0\n",
       "Name           0\n",
       "Sex            0\n",
       "Age         9474\n",
       "Height     60171\n",
       "Weight     62875\n",
       "Team           0\n",
       "NOC            0\n",
       "Games          0\n",
       "Year           0\n",
       "Season         0\n",
       "City           0\n",
       "Sport          0\n",
       "Event          0\n",
       "Medal     231333\n",
       "dtype: int64"
      ]
     },
     "execution_count": 21,
     "metadata": {},
     "output_type": "execute_result"
    }
   ],
   "execution_count": 21
  },
  {
   "cell_type": "markdown",
   "metadata": {
    "id": "bubSxNkLpn_J"
   },
   "source": [
    "**Question 8 :  <br>\n",
    "What can you say about None Value? Do they all mean the same thing? Should we delete all the missing Values? <br>**"
   ]
  },
  {
   "cell_type": "code",
   "metadata": {
    "ExecuteTime": {
     "end_time": "2024-08-19T13:29:50.636142Z",
     "start_time": "2024-08-19T13:29:50.604409Z"
    }
   },
   "source": "df[\"Medal\"].unique()",
   "outputs": [
    {
     "data": {
      "text/plain": [
       "array([nan, 'Gold', 'Bronze', 'Silver'], dtype=object)"
      ]
     },
     "execution_count": 22,
     "metadata": {},
     "output_type": "execute_result"
    }
   ],
   "execution_count": 22
  },
  {
   "metadata": {},
   "cell_type": "markdown",
   "source": [
    "- None values for Medals indicate that the athlete didn't receive any medal at all, which is still an important metric\n",
    "- Missing numeric values should be replaced by the mean of all available values"
   ]
  },
  {
   "cell_type": "markdown",
   "metadata": {
    "id": "KYVFpT7NreBT"
   },
   "source": [
    "**Question 9: <br>\n",
    "Fill the NaN line of the column `Medal` with the string `None`.**"
   ]
  },
  {
   "cell_type": "code",
   "metadata": {
    "ExecuteTime": {
     "end_time": "2024-08-19T13:39:43.422898Z",
     "start_time": "2024-08-19T13:39:43.399717Z"
    }
   },
   "source": "df[\"Medal\"] = df[\"Medal\"].fillna(\"None\")",
   "outputs": [],
   "execution_count": 9
  },
  {
   "cell_type": "markdown",
   "metadata": {
    "id": "uaMYkf1hiWBi"
   },
   "source": [
    "**Question 10:** <br>\n",
    "**Drop the columns of the dataset that have missing values with `.dropna(axis=1)`. <br>**\n",
    "Don't forget to add `.reset_index(drop=True)` after dropping the NaN values in the dataframe !"
   ]
  },
  {
   "cell_type": "code",
   "metadata": {
    "ExecuteTime": {
     "end_time": "2024-08-19T13:42:22.719979Z",
     "start_time": "2024-08-19T13:42:22.709440Z"
    }
   },
   "source": [
    "na_proportions = df.select_dtypes(include=[int, float]).isna().sum() / len(df)\n",
    "to_replace = na_proportions[na_proportions <= 0.1].index.to_list()\n",
    "to_drop = na_proportions[na_proportions > 0.1].index.to_list()"
   ],
   "outputs": [],
   "execution_count": 18
  },
  {
   "metadata": {
    "ExecuteTime": {
     "end_time": "2024-08-19T13:41:16.314130Z",
     "start_time": "2024-08-19T13:41:16.213359Z"
    }
   },
   "cell_type": "code",
   "source": "df.dropna(subset=to_drop, inplace=True).reset_index(drop=True)  # Don't forget to reset the index if the data were to be reused in the same variable",
   "outputs": [],
   "execution_count": 16
  },
  {
   "metadata": {
    "ExecuteTime": {
     "end_time": "2024-08-19T13:42:54.505651Z",
     "start_time": "2024-08-19T13:42:54.499121Z"
    }
   },
   "cell_type": "code",
   "source": "to_replace",
   "outputs": [
    {
     "data": {
      "text/plain": [
       "['ID', 'Age', 'Height', 'Weight', 'Year']"
      ]
     },
     "execution_count": 23,
     "metadata": {},
     "output_type": "execute_result"
    }
   ],
   "execution_count": 23
  },
  {
   "metadata": {
    "ExecuteTime": {
     "end_time": "2024-08-19T13:43:01.017149Z",
     "start_time": "2024-08-19T13:43:01.005863Z"
    }
   },
   "cell_type": "code",
   "source": [
    "for col in to_replace:\n",
    "  df[col] = df[col].fillna(df[col].mean())"
   ],
   "outputs": [],
   "execution_count": 24
  },
  {
   "cell_type": "markdown",
   "metadata": {
    "id": "mL9bhb-kiWBj"
   },
   "source": [
    "**If you don't want to drop rows, you can replace the missing values in each variable** <br>\n",
    "Try the following methods only if the variable has a small number of NaN values (less than 10%).\n",
    "- Replace with the mean or median value for continuous variables (mostly columns with a float dtype)\n",
    "- Replace with the variable's most frequent value (`.mode()`) or by creating a new category for categorical variables (mostly columns with an int/object dtype)\n",
    "\n",
    "You can drop the variables with a high number of missing values."
   ]
  },
  {
   "cell_type": "markdown",
   "metadata": {
    "id": "btcIfMzNiWBk"
   },
   "source": [
    "At this step, the dataset shouldn't have any missing values (you can check with `.isna().sum().sum()`)\n"
   ]
  },
  {
   "cell_type": "code",
   "metadata": {
    "ExecuteTime": {
     "end_time": "2024-08-19T13:43:06.122183Z",
     "start_time": "2024-08-19T13:43:06.010870Z"
    }
   },
   "source": "df.isna().sum().sum()",
   "outputs": [
    {
     "data": {
      "text/plain": [
       "0"
      ]
     },
     "execution_count": 25,
     "metadata": {},
     "output_type": "execute_result"
    }
   ],
   "execution_count": 25
  },
  {
   "cell_type": "markdown",
   "metadata": {
    "id": "Xng3BxXriWBm"
   },
   "source": [
    "**Question 11**: <br>\n",
    "**Save the cleaned dataframe as a csv file called `dataset_train_clean.csv` using pandas' `.to_csv()` function.** <br>\n",
    "*Note: Make sure to add `index=False` to the `.to_csv()` function or else the index of the dataframe will be saved too.*"
   ]
  },
  {
   "cell_type": "code",
   "metadata": {
    "ExecuteTime": {
     "end_time": "2024-08-19T13:45:49.218236Z",
     "start_time": "2024-08-19T13:45:46.711465Z"
    }
   },
   "source": "df.to_csv('data/athlete_events_cleaned.csv', index=False)",
   "outputs": [],
   "execution_count": 27
  }
 ],
 "metadata": {
  "colab": {
   "provenance": []
  },
  "kernelspec": {
   "display_name": "Python 3 (ipykernel)",
   "language": "python",
   "name": "python3"
  },
  "language_info": {
   "codemirror_mode": {
    "name": "ipython",
    "version": 3
   },
   "file_extension": ".py",
   "mimetype": "text/x-python",
   "name": "python",
   "nbconvert_exporter": "python",
   "pygments_lexer": "ipython3",
   "version": "3.10.13"
  }
 },
 "nbformat": 4,
 "nbformat_minor": 4
}
