{
 "cells": [
  {
   "cell_type": "code",
   "id": "initial_id",
   "metadata": {
    "collapsed": true,
    "ExecuteTime": {
     "end_time": "2024-08-17T06:05:34.771907Z",
     "start_time": "2024-08-17T06:05:34.766136Z"
    }
   },
   "source": [
    "import math\n",
    "\n",
    "import numpy as np"
   ],
   "outputs": [],
   "execution_count": 57
  },
  {
   "metadata": {
    "ExecuteTime": {
     "end_time": "2024-08-17T06:38:57.898292Z",
     "start_time": "2024-08-17T06:38:57.890986Z"
    }
   },
   "cell_type": "code",
   "source": [
    "embedding_dim = 3\n",
    "\n",
    "def softmax(x, t=1):\n",
    "  return np.exp(x/t) / sum(np.exp(x/t))\n",
    "  \n",
    "\n",
    "def self_attention(input_values):\n",
    "  gram = np.matmul(input_values.T, input_values)\n",
    "  print(gram)\n",
    "  scores = softmax(gram / np.sqrt(input_values.shape[1]))\n",
    "  print(scores)\n",
    "  return np.matmul(input_values, scores)\n",
    "  "
   ],
   "id": "aa7484a2cfcb8366",
   "outputs": [],
   "execution_count": 79
  },
  {
   "metadata": {
    "ExecuteTime": {
     "end_time": "2024-08-17T06:38:58.174037Z",
     "start_time": "2024-08-17T06:38:58.165059Z"
    }
   },
   "cell_type": "code",
   "source": [
    "input = np.array([\n",
    "  [1, 2, 1],\n",
    "  [0, 4, 5],\n",
    "  [2, 3, 8],\n",
    "  [4, 5, 6],\n",
    "])\n",
    "\n",
    "self_attention(input)"
   ],
   "id": "b8606c555dcdb864",
   "outputs": [
    {
     "name": "stdout",
     "output_type": "stream",
     "text": [
      "[[ 21  28  41]\n",
      " [ 28  54  76]\n",
      " [ 41  76 126]]\n",
      "[[9.65953629e-06 9.21460976e-13 4.86515787e-22]\n",
      " [5.49713662e-04 3.04591573e-06 2.90401061e-13]\n",
      " [9.99440627e-01 9.99996954e-01 1.00000000e+00]]\n"
     ]
    },
    {
     "data": {
      "text/plain": [
       "array([[1.00054971, 1.00000305, 1.        ],\n",
       "       [4.99940199, 4.99999695, 5.        ],\n",
       "       [7.99719347, 7.99998477, 8.        ],\n",
       "       [5.99943097, 5.99999695, 6.        ]])"
      ]
     },
     "execution_count": 80,
     "metadata": {},
     "output_type": "execute_result"
    }
   ],
   "execution_count": 80
  },
  {
   "metadata": {},
   "cell_type": "code",
   "outputs": [],
   "execution_count": null,
   "source": "",
   "id": "e7ad6f187a139382"
  }
 ],
 "metadata": {
  "kernelspec": {
   "display_name": "Python 3",
   "language": "python",
   "name": "python3"
  },
  "language_info": {
   "codemirror_mode": {
    "name": "ipython",
    "version": 2
   },
   "file_extension": ".py",
   "mimetype": "text/x-python",
   "name": "python",
   "nbconvert_exporter": "python",
   "pygments_lexer": "ipython2",
   "version": "2.7.6"
  }
 },
 "nbformat": 4,
 "nbformat_minor": 5
}
